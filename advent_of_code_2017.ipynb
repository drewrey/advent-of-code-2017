{
 "cells": [
  {
   "cell_type": "markdown",
   "metadata": {},
   "source": [
    "# Advent of Code 2017\n",
    "\n",
    "Inspired by Peter Norvig's [pytudes](https://github.com/norvig/pytudes), I'm going to work through [Advent of Code](http://adventofcode.com/2017) this year through a Jupter notebook."
   ]
  },
  {
   "cell_type": "markdown",
   "metadata": {},
   "source": [
    "## Problem 1\n",
    "\n",
    "\"digitization quarantine\""
   ]
  },
  {
   "cell_type": "markdown",
   "metadata": {},
   "source": [
    "#### _Part One_"
   ]
  },
  {
   "cell_type": "code",
   "execution_count": 1,
   "metadata": {},
   "outputs": [],
   "source": [
    "# puzzle input data:\n",
    "puzzle_input = 951484596541141557316984781494999179679767747627132447513171626424561779662873157761442952212296685573452311263445163233493199211387838461594635666699422982947782623317333683978438123261326863959719777179228599319321138948466562743761584836184512984131635354116264899181952748224523953976485816295227945792555726121913344959454458829485471174415775278865324142733339789878929596275998341778873889585819916457474773252249179366599951454182657225576277834669222982366884688565754691273745959468648957498511326215934353963981471593984617554514519623785326888374742147318993423214834751785956958395133486656388454552769722562524415715913869946325551396638593398729938526424994348267935153555851552287223313383583669912941364344694725478258297498969517632881187394141593479818536194597976519254215932257653777455227477617957833273463216593642394215275314734914719726618923177918342664351954252667253233858814365351722938716621544226598956257753212248859258351363174782742336961425325381561575992352415514168782816173861148859478285339529151631429536819286498721812323861771638574344416879476255929929157912984151742613268754779685396125954595318134933366626594498249956388771723777242772654678448815844555372892574747735672368299826548254744359377667294764559334659523233146587568261116253155189394188696831691284711264872914348961888253386971994431352474717376878745948769171243242621219912378731755544387249443997382399714738351857752329367997665166956467544459817582915478514486541453932175598413554259672117364863112592515988922747164842668361925135551248923449968328385889877512156952725198691746951431443497496455761516486573476185321748523644283494181119399874324683922393547682851931435931276267766772798261563117954648576421741384823494187895272582575669685279986988357796138794326125852772995446355723211161523161886222562853546488411563473998633847953246787557146187696947831335722888918172961256498971868946237299523474841983527391489962357196433927251798764362493965894995592683296651874787384247326643886774966828657393717626591578321174832222434128817871765347278152799425565633521152643686221411129463425496425385516719682884157452772141585743166647191938727971366274357874252166721759"
   ]
  },
  {
   "cell_type": "code",
   "execution_count": 2,
   "metadata": {},
   "outputs": [],
   "source": [
    "def captcha(in_: int):\n",
    "    total = 0\n",
    "    in_ = str(in_)\n",
    "    for i, el in enumerate(in_):\n",
    "        if i + 1 == len(in_):\n",
    "            check = 0\n",
    "        else:\n",
    "            check = i + 1\n",
    "        if el == in_[check]:\n",
    "            total += int(el)\n",
    "    return total"
   ]
  },
  {
   "cell_type": "code",
   "execution_count": 3,
   "metadata": {},
   "outputs": [],
   "source": [
    "# tests\n",
    "\n",
    "assert captcha(1122) == 3\n",
    "assert captcha(1111) == 4\n",
    "assert captcha(1234) == 0\n",
    "assert captcha(91212129) == 9"
   ]
  },
  {
   "cell_type": "code",
   "execution_count": 4,
   "metadata": {},
   "outputs": [
    {
     "data": {
      "text/plain": [
       "1341"
      ]
     },
     "execution_count": 4,
     "metadata": {},
     "output_type": "execute_result"
    }
   ],
   "source": [
    "captcha(puzzle_input)"
   ]
  },
  {
   "cell_type": "markdown",
   "metadata": {},
   "source": [
    "#### _Part Two_ "
   ]
  },
  {
   "cell_type": "code",
   "execution_count": 5,
   "metadata": {},
   "outputs": [],
   "source": [
    "## copy-captcha...\n",
    "# and then, we'd like to vary the index that we check\n",
    "# in particular, we should verify that if the index in question is less\n",
    "# than or equal to the length, then the index to check is twice the\n",
    "# index in question. If the value is equal, then we should add it to the\n",
    "# total twice, because of the symmetry inherent to an array with even\n",
    "# length.\n",
    "\n",
    "def captcha_two(in_: int):\n",
    "    total = 0\n",
    "    in_ = str(in_)\n",
    "    half = len(in_) // 2\n",
    "    for i, el in enumerate(in_):\n",
    "        if i < half:\n",
    "            if in_[half + i] == el:\n",
    "                total += 2 * int(el)\n",
    "    return total"
   ]
  },
  {
   "cell_type": "code",
   "execution_count": 6,
   "metadata": {},
   "outputs": [],
   "source": [
    "# tests\n",
    "\n",
    "assert captcha_two(1212) == 6\n",
    "assert captcha_two(1221) == 0\n",
    "assert captcha_two(123425) == 4\n",
    "assert captcha_two(123123) == 12\n",
    "assert captcha_two(12131415) == 4"
   ]
  },
  {
   "cell_type": "code",
   "execution_count": 7,
   "metadata": {},
   "outputs": [
    {
     "data": {
      "text/plain": [
       "1348"
      ]
     },
     "execution_count": 7,
     "metadata": {},
     "output_type": "execute_result"
    }
   ],
   "source": [
    "captcha_two(puzzle_input)"
   ]
  },
  {
   "cell_type": "markdown",
   "metadata": {},
   "source": [
    "### Problem Two!"
   ]
  },
  {
   "cell_type": "markdown",
   "metadata": {},
   "source": [
    "Okay, we need to:\n",
    "- read a file, with lines of numbers\n",
    "- for each line, find the difference between largest and smallest\n",
    "- sum those differences"
   ]
  },
  {
   "cell_type": "code",
   "execution_count": 8,
   "metadata": {},
   "outputs": [],
   "source": [
    "import csv\n",
    "day_two_lines = []\n",
    "with open('day2.txt', 'r') as f:\n",
    "    reader = csv.reader(f, delimiter='\\t')\n",
    "    for row in reader:\n",
    "        day_two_lines.append([int(el) for el in row])"
   ]
  },
  {
   "cell_type": "code",
   "execution_count": 9,
   "metadata": {},
   "outputs": [],
   "source": [
    "from typing import List\n",
    "\n",
    "def checksum(spreadsheet: List[List[int]]):\n",
    "    total = 0\n",
    "    for row in spreadsheet:\n",
    "        total += max(row) - min(row)\n",
    "    return total"
   ]
  },
  {
   "cell_type": "code",
   "execution_count": 10,
   "metadata": {},
   "outputs": [],
   "source": [
    "# test\n",
    "part_one_spreadsheet_test = [[5, 1, 9, 5], [7, 5, 3], [2, 4, 6, 8]]\n",
    "assert checksum(part_one_spreadsheet_test) == 18"
   ]
  },
  {
   "cell_type": "code",
   "execution_count": 11,
   "metadata": {},
   "outputs": [
    {
     "data": {
      "text/plain": [
       "41887"
      ]
     },
     "execution_count": 11,
     "metadata": {},
     "output_type": "execute_result"
    }
   ],
   "source": [
    "checksum(day_two_lines)"
   ]
  },
  {
   "cell_type": "markdown",
   "metadata": {},
   "source": [
    "#### Part Two\n",
    "\n",
    "Now we care about numbers in a spreadsheet's row that evenly divide each other."
   ]
  },
  {
   "cell_type": "code",
   "execution_count": 12,
   "metadata": {},
   "outputs": [],
   "source": [
    "def checksum_part_two(spreadsheet: List[List[int]]):\n",
    "    total = 0\n",
    "    for row in spreadsheet:\n",
    "        for i, val in enumerate(row):\n",
    "            for test in row[(i+1):]:\n",
    "                # go through the rest of the row\n",
    "                if val > test:\n",
    "                    tmp = val / test\n",
    "                else:\n",
    "                    tmp = test / val\n",
    "                if tmp.is_integer():\n",
    "                    total += tmp\n",
    "    return total"
   ]
  },
  {
   "cell_type": "code",
   "execution_count": 13,
   "metadata": {},
   "outputs": [],
   "source": [
    "# test\n",
    "part_two_spreadsheet_test = [[5, 9, 2, 8], [9, 4, 7, 3], [3, 8, 6, 5]]\n",
    "assert checksum_part_two(part_two_spreadsheet_test) == 9"
   ]
  },
  {
   "cell_type": "code",
   "execution_count": 14,
   "metadata": {},
   "outputs": [
    {
     "data": {
      "text/plain": [
       "226.0"
      ]
     },
     "execution_count": 14,
     "metadata": {},
     "output_type": "execute_result"
    }
   ],
   "source": [
    "checksum_part_two(day_two_lines)"
   ]
  },
  {
   "cell_type": "markdown",
   "metadata": {},
   "source": [
    "### Problem Three!"
   ]
  },
  {
   "cell_type": "markdown",
   "metadata": {},
   "source": [
    "Okay, so... if we create the full spiral for each of odd squares, then we can determine which odd square we need to compute up until based on the input. If the input is between two odd squares `x` and `y`, then we know that the input value will lie somewhere on the outer ring.\n",
    "\n",
    "Once we know which odd square `y` is the smallest odd square larger than the input, then we can create the outer ring and use the relative position to compute the manhattan distance between that value and the center."
   ]
  },
  {
   "cell_type": "code",
   "execution_count": 15,
   "metadata": {},
   "outputs": [],
   "source": [
    "def manhattan_distance(point_one, point_two):\n",
    "    return abs(point_one[0] - point_two[0]) + abs(point_one[1] - point_two[1])"
   ]
  },
  {
   "cell_type": "code",
   "execution_count": 16,
   "metadata": {},
   "outputs": [],
   "source": [
    "from math import ceil, sqrt\n",
    "\n",
    "def find_next_largest_odd_square(n: int):\n",
    "    root = ceil(sqrt(n))\n",
    "    if root % 2 == 0:\n",
    "        return (root + 1) ** 2\n",
    "    else:\n",
    "        return root ** 2\n",
    "\n",
    "assert find_next_largest_odd_square(12) == 25\n",
    "assert find_next_largest_odd_square(1) == 1\n",
    "assert find_next_largest_odd_square(23) == 25"
   ]
  },
  {
   "cell_type": "markdown",
   "metadata": {},
   "source": [
    "Now, we need to find the position on the outer ring of the input. We know that if the next largest odd square is `(2*k + 1) ** 2`, then the \"length\" of the outer ring is `(2*k) ** 2`, where each side has length `(2*k + 1)`."
   ]
  },
  {
   "cell_type": "markdown",
   "metadata": {},
   "source": [
    "We can avoid some coordinate-position-finding if the input value is an odd square, so let's verify that it's not."
   ]
  },
  {
   "cell_type": "code",
   "execution_count": 17,
   "metadata": {},
   "outputs": [
    {
     "data": {
      "text/plain": [
       "False"
      ]
     },
     "execution_count": 17,
     "metadata": {},
     "output_type": "execute_result"
    }
   ],
   "source": [
    "day_three_input = 265149\n",
    "sqrt(day_three_input).is_integer()"
   ]
  },
  {
   "cell_type": "code",
   "execution_count": 18,
   "metadata": {},
   "outputs": [
    {
     "data": {
      "text/plain": [
       "3"
      ]
     },
     "execution_count": 18,
     "metadata": {},
     "output_type": "execute_result"
    }
   ],
   "source": [
    "7 % 4"
   ]
  },
  {
   "cell_type": "code",
   "execution_count": 19,
   "metadata": {},
   "outputs": [
    {
     "data": {
      "text/plain": [
       "1"
      ]
     },
     "execution_count": 19,
     "metadata": {},
     "output_type": "execute_result"
    }
   ],
   "source": [
    "9 % 4"
   ]
  },
  {
   "cell_type": "markdown",
   "metadata": {},
   "source": [
    "#### "
   ]
  },
  {
   "cell_type": "markdown",
   "metadata": {},
   "source": [
    "Okay, so let's find the coordinate position of the value on our outer ring.\n",
    "\n",
    "In particular, we are concerned with the side-length of the square `(2*k + 1)` and the distance of the input value from a side's midpoint.\n",
    "\n",
    "If the next-largest odd square is `(2 * k + 1) ** 2`, then we compute the difference `(2 * k + 1) ** 2 - input`, and then compute the modulus of this value by `2 * k`. This gives us the off-set from the corner.\n",
    "\n",
    "Then, with side lenghts of `(2 * k + 1)`, we'll always need to move `k` spaces \"in\" (horizontally or vertically), and then `abs(((2 * k + 1) ** 2 - input) % (2 * k) - k)`"
   ]
  },
  {
   "cell_type": "markdown",
   "metadata": {},
   "source": [
    "(hm, maybe we don't need the manhattan distance function, after all!)"
   ]
  },
  {
   "cell_type": "code",
   "execution_count": 20,
   "metadata": {},
   "outputs": [],
   "source": [
    "def count_steps(value):\n",
    "    if value == 1:\n",
    "        return 0\n",
    "    side_length = sqrt(find_next_largest_odd_square(value))\n",
    "    k = (side_length - 1) // 2\n",
    "    offset = abs((side_length ** 2 - value) % (2 * k) - k)\n",
    "    return k + offset"
   ]
  },
  {
   "cell_type": "code",
   "execution_count": 21,
   "metadata": {},
   "outputs": [
    {
     "data": {
      "text/plain": [
       "1"
      ]
     },
     "execution_count": 21,
     "metadata": {},
     "output_type": "execute_result"
    }
   ],
   "source": [
    "13 % 4"
   ]
  },
  {
   "cell_type": "code",
   "execution_count": 22,
   "metadata": {},
   "outputs": [],
   "source": [
    "# tests\n",
    "assert count_steps(1) == 0\n",
    "assert count_steps(12) == 3\n",
    "assert count_steps(23) == 2\n",
    "assert count_steps(1024) == 31"
   ]
  },
  {
   "cell_type": "code",
   "execution_count": 23,
   "metadata": {},
   "outputs": [
    {
     "data": {
      "text/plain": [
       "438.0"
      ]
     },
     "execution_count": 23,
     "metadata": {},
     "output_type": "execute_result"
    }
   ],
   "source": [
    "count_steps(day_three_input)"
   ]
  },
  {
   "cell_type": "markdown",
   "metadata": {},
   "source": [
    "#### Part two!\n",
    "in which it appears as though we may have to compute the spiral!"
   ]
  },
  {
   "cell_type": "markdown",
   "metadata": {},
   "source": [
    "is it a coincidence that the bottom right diagonal appears to be a square?"
   ]
  },
  {
   "cell_type": "code",
   "execution_count": 24,
   "metadata": {},
   "outputs": [
    {
     "data": {
      "text/plain": [
       "'\\n147, 142, 133, 122,  59\\n304,   5,   4,   2,  57\\n330, 110,   1,   1,  54\\n351,  11,  23,  25,  26\\n362, 747, 806, 880, 931\\n'"
      ]
     },
     "execution_count": 24,
     "metadata": {},
     "output_type": "execute_result"
    }
   ],
   "source": [
    "\"\"\"\n",
    "147, 142, 133, 122,  59\n",
    "304,   5,   4,   2,  57\n",
    "330, 110,   1,   1,  54\n",
    "351,  11,  23,  25,  26\n",
    "362, 747, 806, 880, 931\n",
    "\"\"\""
   ]
  },
  {
   "cell_type": "markdown",
   "metadata": {},
   "source": [
    "Some observations:\n",
    "- each next square includes the previous value as part of the sum\n",
    "- each square will border some previous values. can we generalize the squares which will be bordered using a similar methodology to the previous part?"
   ]
  },
  {
   "cell_type": "markdown",
   "metadata": {},
   "source": [
    "if we start at Square 1, then the coordinates take on these values:\n",
    "1. (0, 0)\n",
    "2. (1, 0)\n",
    "3. (1, 1)\n",
    "4. (0, 1)\n",
    "5. (-1, 1)\n",
    "6. (-1, 0)\n",
    "7. (-1, -1)\n",
    "8. (0, -1)\n",
    "9. (1, -1)\n",
    "10. (2, -1)\n",
    "11. (2, 0)\n",
    "12. (2, 1)\n",
    "13. (2, 2)\n",
    "14. (1, 2)\n",
    "15. (0, 2)\n",
    "16. (-1, 2)\n",
    "17. (-2, 2)\n",
    "18. (-2, 1)\n",
    "19. (-2, 0)\n",
    "20. (-2, -1)\n",
    "21. (-2, -2)\n",
    "22. (-1, -2)\n",
    "23. (0, -2)\n",
    "24. (1, -2)\n",
    "25. (2, -2)"
   ]
  },
  {
   "cell_type": "markdown",
   "metadata": {},
   "source": [
    "Some observations about this pattern:\n",
    "- `abs(x), abs(y) <= k` where k is defined by the next odd square as `(2 * k + 1) ** 2`.\n",
    "- `abs(x) + abs(y) <= 2 * k`\n",
    "- we're always moving in just _one_ direction: x or y"
   ]
  },
  {
   "cell_type": "code",
   "execution_count": 25,
   "metadata": {},
   "outputs": [],
   "source": [
    "class Point(object):\n",
    "    def __init__(self, x, y, value, direction=None):\n",
    "        self.x = x\n",
    "        self.y = y\n",
    "        self.value = value\n",
    "        self.direction = direction if direction is not None else tuple([1, 0])\n",
    "    \n",
    "    def __repr__(self):\n",
    "        return f'Point({str(self.x)}, {str(self.y)})'\n",
    "    \n",
    "    def __eq__(self, other):\n",
    "        return self.x == other.x and self.y == other.y\n",
    "    \n",
    "def next_direction(dir_):\n",
    "    if dir_ == (1, 0):\n",
    "        return (0, 1)\n",
    "    if dir_ == (0, 1):\n",
    "        return (-1, 0)\n",
    "    if dir_ == (-1, 0):\n",
    "        return (0, -1)\n",
    "    if dir_ == (0, -1):\n",
    "        return (1, 0)"
   ]
  },
  {
   "cell_type": "code",
   "execution_count": 26,
   "metadata": {},
   "outputs": [
    {
     "name": "stdout",
     "output_type": "stream",
     "text": [
      "Point(10, 11)\n"
     ]
    }
   ],
   "source": [
    "print(Point(10, 11, (1, 0)))"
   ]
  },
  {
   "cell_type": "code",
   "execution_count": 27,
   "metadata": {},
   "outputs": [],
   "source": [
    "class Spiral():\n",
    "    def __init__(self):\n",
    "        self.data = {\n",
    "            1: Point(0, 0, value=1),\n",
    "            2: Point(1, 0, value=1)\n",
    "        }\n",
    "        self.i = 2\n",
    "\n",
    "    def compute_value(self, n):\n",
    "        if n > self.i:\n",
    "            while self.i <= n:\n",
    "                self.data[self.i + 1] = self.add_point(self.i+1, self.data[self.i])\n",
    "                self.i += 1\n",
    "        return self.data[n]\n",
    "    \n",
    "    def add_point(self, j, prev_point):\n",
    "        next_odd_square = find_next_largest_odd_square(j)\n",
    "        k = (sqrt(next_odd_square) - 1) // 2\n",
    "        x_possible, y_possible = prev_point.x + prev_point.direction[0], prev_point.y + prev_point.direction[1]\n",
    "        if abs(x_possible) > k or abs(y_possible) > k:\n",
    "            direction = next_direction(prev_point.direction)\n",
    "            return Point(prev_point.x + direction[0], prev_point.y + direction[1], self.find_values(prev_point.x + direction[0], prev_point.y + direction[1]), direction)\n",
    "        else:\n",
    "            return Point(x_possible, y_possible, self.find_values(x_possible, y_possible), prev_point.direction)\n",
    "    \n",
    "    def find_values(self, x, y):\n",
    "        \"\"\"sum values that are in the 3x3 grid around a Point\n",
    "        \n",
    "        because these are done when each square is generated, only the pre-existing squares\n",
    "        will be included in the resulting total.\n",
    "        \"\"\"\n",
    "        total = 0\n",
    "        for i in range(-1, 2):\n",
    "            for j in range(-1, 2):\n",
    "                new_x = x + i\n",
    "                new_y = y + j\n",
    "                for key, value in self.data.items():\n",
    "                    if Point(new_x, new_y, 0) == value:\n",
    "                        total += value.value\n",
    "        return total"
   ]
  },
  {
   "cell_type": "code",
   "execution_count": 28,
   "metadata": {},
   "outputs": [],
   "source": [
    "s = Spiral()"
   ]
  },
  {
   "cell_type": "code",
   "execution_count": 29,
   "metadata": {},
   "outputs": [
    {
     "data": {
      "text/plain": [
       "Point(1, 1)"
      ]
     },
     "execution_count": 29,
     "metadata": {},
     "output_type": "execute_result"
    }
   ],
   "source": [
    "s.compute_value(3)"
   ]
  },
  {
   "cell_type": "code",
   "execution_count": 30,
   "metadata": {},
   "outputs": [
    {
     "data": {
      "text/plain": [
       "806"
      ]
     },
     "execution_count": 30,
     "metadata": {},
     "output_type": "execute_result"
    }
   ],
   "source": [
    "s.compute_value(23).value"
   ]
  },
  {
   "cell_type": "code",
   "execution_count": 31,
   "metadata": {},
   "outputs": [],
   "source": [
    "# tests\n",
    "assert s.compute_value(1).value == 1\n",
    "assert s.compute_value(2).value == 1\n",
    "assert s.compute_value(3).value == 2\n",
    "assert s.compute_value(4).value == 4\n",
    "assert s.compute_value(9).value == 25\n",
    "assert s.compute_value(23).value == 806"
   ]
  },
  {
   "cell_type": "code",
   "execution_count": 32,
   "metadata": {},
   "outputs": [
    {
     "name": "stdout",
     "output_type": "stream",
     "text": [
      "266330\n"
     ]
    }
   ],
   "source": [
    "i = 10\n",
    "while s.compute_value(i).value <= day_three_input:\n",
    "    i += 1\n",
    "print(s.compute_value(i).value)"
   ]
  },
  {
   "cell_type": "markdown",
   "metadata": {},
   "source": [
    "### WAHOO!"
   ]
  },
  {
   "cell_type": "markdown",
   "metadata": {},
   "source": [
    "### Day 4\n",
    "determining valid passphrases"
   ]
  },
  {
   "cell_type": "code",
   "execution_count": 33,
   "metadata": {},
   "outputs": [],
   "source": [
    "passphrase_list = []\n",
    "with open('day4.txt', 'r') as f:\n",
    "    for line in f.read().splitlines():\n",
    "        passphrase_list.append(line)"
   ]
  },
  {
   "cell_type": "code",
   "execution_count": 34,
   "metadata": {},
   "outputs": [
    {
     "data": {
      "text/plain": [
       "['pphsv',\n",
       " 'ojtou',\n",
       " 'brvhsj',\n",
       " 'cer',\n",
       " 'ntfhlra',\n",
       " 'udeh',\n",
       " 'ccgtyzc',\n",
       " 'zoyzmh',\n",
       " 'jum',\n",
       " 'lugbnk']"
      ]
     },
     "execution_count": 34,
     "metadata": {},
     "output_type": "execute_result"
    }
   ],
   "source": [
    "passphrase_list[0].split(' ')"
   ]
  },
  {
   "cell_type": "code",
   "execution_count": 35,
   "metadata": {},
   "outputs": [],
   "source": [
    "def is_valid(phrase: str):\n",
    "    tmp = set()\n",
    "    for word in phrase.split(' '):\n",
    "        if word in tmp:\n",
    "            return False\n",
    "        else:\n",
    "            tmp.add(word)\n",
    "    return True"
   ]
  },
  {
   "cell_type": "code",
   "execution_count": 36,
   "metadata": {},
   "outputs": [],
   "source": [
    "# tests\n",
    "assert is_valid('aa bb cc dd ee')\n",
    "assert not is_valid('aa bb cc dd aa')\n",
    "assert is_valid('aa bb cc dd aaa')"
   ]
  },
  {
   "cell_type": "code",
   "execution_count": 37,
   "metadata": {},
   "outputs": [
    {
     "data": {
      "text/plain": [
       "466"
      ]
     },
     "execution_count": 37,
     "metadata": {},
     "output_type": "execute_result"
    }
   ],
   "source": [
    "def count_valid(phrases, validity_check=is_valid):\n",
    "    total = 0\n",
    "    for phrase in phrases:\n",
    "        if validity_check(phrase):\n",
    "            total += 1\n",
    "    return total\n",
    "\n",
    "count_valid(passphrase_list)"
   ]
  },
  {
   "cell_type": "markdown",
   "metadata": {},
   "source": [
    "#### Part two!\n",
    "\n",
    "now, the words cannot be anagrams of each other. so, we'll sort each word before adding it to our set."
   ]
  },
  {
   "cell_type": "code",
   "execution_count": 38,
   "metadata": {},
   "outputs": [
    {
     "data": {
      "text/plain": [
       "251"
      ]
     },
     "execution_count": 38,
     "metadata": {},
     "output_type": "execute_result"
    }
   ],
   "source": [
    "def is_valid_two(phrase: str):\n",
    "    tmp = set()\n",
    "    for word in phrase.split(' '):\n",
    "        if ''.join(sorted(word)) in tmp:\n",
    "            return False\n",
    "        else:\n",
    "            tmp.add(''.join(sorted(word)))\n",
    "    return True\n",
    "\n",
    "count_valid(passphrase_list, is_valid_two)"
   ]
  },
  {
   "cell_type": "code",
   "execution_count": null,
   "metadata": {},
   "outputs": [],
   "source": []
  }
 ],
 "metadata": {
  "kernelspec": {
   "display_name": "Python 3",
   "language": "python",
   "name": "python3"
  },
  "language_info": {
   "codemirror_mode": {
    "name": "ipython",
    "version": 3
   },
   "file_extension": ".py",
   "mimetype": "text/x-python",
   "name": "python",
   "nbconvert_exporter": "python",
   "pygments_lexer": "ipython3",
   "version": "3.6.2"
  }
 },
 "nbformat": 4,
 "nbformat_minor": 2
}
